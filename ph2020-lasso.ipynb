{
 "cells": [
  {
   "cell_type": "code",
   "execution_count": 9,
   "metadata": {},
   "outputs": [],
   "source": [
    "import pandas\n",
    "\n",
    "ph = pandas.read_csv(\"/Users/sunqingyu/Desktop/phph.csv\")"
   ]
  },
  {
   "cell_type": "code",
   "execution_count": 10,
   "metadata": {},
   "outputs": [],
   "source": [
    "from sklearn import linear_model\n",
    "import numpy as np"
   ]
  },
  {
   "cell_type": "code",
   "execution_count": 11,
   "metadata": {},
   "outputs": [],
   "source": [
    "ph = ph.fillna(0)"
   ]
  },
  {
   "cell_type": "code",
   "execution_count": 12,
   "metadata": {},
   "outputs": [],
   "source": [
    "X = ph.iloc[0:100,11:752]\n",
    "y = ph.iloc[0:100,3]"
   ]
  },
  {
   "cell_type": "code",
   "execution_count": 13,
   "metadata": {},
   "outputs": [],
   "source": [
    "fit_lasso = linear_model.Lasso(alpha=0.1)"
   ]
  },
  {
   "cell_type": "code",
   "execution_count": 14,
   "metadata": {},
   "outputs": [
    {
     "name": "stderr",
     "output_type": "stream",
     "text": [
      "/Users/sunqingyu/anaconda3/lib/python3.7/site-packages/sklearn/linear_model/coordinate_descent.py:475: ConvergenceWarning: Objective did not converge. You might want to increase the number of iterations. Duality gap: 31.18939102090589, tolerance: 0.5146744986453334\n",
      "  positive)\n"
     ]
    },
    {
     "data": {
      "text/plain": [
       "Lasso(alpha=0.1, copy_X=True, fit_intercept=True, max_iter=1000,\n",
       "      normalize=False, positive=False, precompute=False, random_state=None,\n",
       "      selection='cyclic', tol=0.0001, warm_start=False)"
      ]
     },
     "execution_count": 14,
     "metadata": {},
     "output_type": "execute_result"
    }
   ],
   "source": [
    "fit_lasso.fit(X,y)"
   ]
  },
  {
   "cell_type": "code",
   "execution_count": 15,
   "metadata": {},
   "outputs": [
    {
     "data": {
      "text/plain": [
       "array([ 1.7625383 , 13.68612817,  2.7805222 ,  1.57886011,  1.33623208,\n",
       "        2.31049275,  7.28864492,  2.76748296,  3.26946648,  1.47004594,\n",
       "        1.24440423,  1.72195013,  2.52632538,  2.18409832,  8.10645836,\n",
       "        2.02953389,  4.60566805,  6.38227578,  2.89446946,  1.54670286,\n",
       "        7.0944419 ,  1.82587715, 24.89537069,  0.1292465 ,  2.31191644,\n",
       "       15.07248137,  0.72601063,  7.04184646,  4.1929466 ,  2.54407969,\n",
       "        1.7071144 ,  3.79467833,  2.47525928,  1.12176544,  0.8963129 ,\n",
       "        3.90902595,  3.86313001,  0.92633594,  0.94994126,  2.72079469,\n",
       "        0.92715619,  1.83272843, 11.01887078,  5.84199686,  4.65293185,\n",
       "        2.43844819,  1.85033295,  7.97590773,  1.89216248,  3.44642132,\n",
       "       15.42298824,  3.01691047,  2.68142708, 35.37418691, 21.87830495,\n",
       "        1.79546484,  1.20454713,  2.44412968,  4.04093929,  1.15388801,\n",
       "        0.51984498,  1.05256792,  1.52264726,  1.62543327,  0.88811102,\n",
       "        1.52419643,  7.08843585, 19.50689176,  2.00378381,  1.00855905,\n",
       "        8.80457869,  2.50253892,  3.92576911,  0.88561058,  1.89186519,\n",
       "        0.67162377, 11.0953978 , 12.8462439 ,  2.97829194,  2.94962502,\n",
       "        4.35399075,  0.61812681,  1.80238839,  2.16480912,  2.96290202,\n",
       "       10.82609181,  3.38616601,  0.31972873, 10.74707845,  1.45295249,\n",
       "        1.75422713,  1.46631056,  0.80546168,  4.90523698, 13.46634053,\n",
       "        1.66065732, 21.10859132,  5.11867439,  1.40774958,  0.24514265,\n",
       "       15.10615691,  3.21621739,  1.09073683,  0.8763991 ,  1.84902654,\n",
       "        0.41704183,  1.5440088 , 28.8475989 ,  1.8123206 ,  2.74404216,\n",
       "        1.06806273,  1.61473051,  1.13227667,  2.05617871,  2.20135245,\n",
       "        3.78408455,  1.33301149,  6.53901855,  2.7600165 ,  2.29950688,\n",
       "        0.8276994 ,  1.02739489,  1.86443419,  0.29739573,  1.12505517,\n",
       "        2.51893966,  1.17076201,  3.66955717,  0.83147902, 31.1103    ,\n",
       "        1.66693778,  4.3493945 ])"
      ]
     },
     "execution_count": 15,
     "metadata": {},
     "output_type": "execute_result"
    }
   ],
   "source": [
    "fit_lasso.predict(X)"
   ]
  },
  {
   "cell_type": "code",
   "execution_count": 16,
   "metadata": {},
   "outputs": [
    {
     "data": {
      "text/plain": [
       "0      1.079656\n",
       "1      0.988118\n",
       "2      1.049293\n",
       "3      0.736546\n",
       "4      1.032796\n",
       "5      0.960464\n",
       "6      1.003724\n",
       "7      1.223251\n",
       "8      0.880783\n",
       "9      1.374517\n",
       "10     0.904692\n",
       "11     0.953039\n",
       "12     0.746175\n",
       "13     1.025110\n",
       "14     0.995696\n",
       "15     1.007663\n",
       "16     0.997351\n",
       "17     1.012513\n",
       "18     1.003874\n",
       "19     1.474314\n",
       "20     0.998050\n",
       "21     1.025428\n",
       "22     0.995942\n",
       "23     0.624379\n",
       "24     1.024831\n",
       "25     1.002093\n",
       "26     1.108582\n",
       "27     0.989399\n",
       "28     0.916271\n",
       "29     1.266278\n",
       "         ...   \n",
       "102    1.057325\n",
       "103    0.884269\n",
       "104    0.967014\n",
       "105    0.779517\n",
       "106    1.618797\n",
       "107    0.985902\n",
       "108    1.041324\n",
       "109    0.964955\n",
       "110    1.059376\n",
       "111    1.077924\n",
       "112    1.085700\n",
       "113    0.969758\n",
       "114    1.119882\n",
       "115    0.891065\n",
       "116    1.792405\n",
       "117    0.920004\n",
       "118    1.148523\n",
       "119    1.007628\n",
       "120    0.846751\n",
       "121    0.805042\n",
       "122    0.968437\n",
       "123    1.561952\n",
       "124    0.855360\n",
       "125    1.306030\n",
       "126    0.556816\n",
       "127    1.014418\n",
       "128    1.328453\n",
       "129    0.999576\n",
       "130    1.255319\n",
       "131    0.941611\n",
       "Name: LOS, Length: 132, dtype: float64"
      ]
     },
     "execution_count": 16,
     "metadata": {},
     "output_type": "execute_result"
    }
   ],
   "source": [
    "fit_lasso.predict(X)/y"
   ]
  },
  {
   "cell_type": "code",
   "execution_count": 18,
   "metadata": {},
   "outputs": [],
   "source": [
    "testX = ph.iloc[100:133,11:752]\n",
    "testY = ph.iloc[100:133, 3]\n",
    "output = fit_lasso.predict(testX)/testY"
   ]
  },
  {
   "cell_type": "code",
   "execution_count": 19,
   "metadata": {},
   "outputs": [
    {
     "data": {
      "text/plain": [
       "1.0520685088522412"
      ]
     },
     "execution_count": 19,
     "metadata": {},
     "output_type": "execute_result"
    }
   ],
   "source": [
    "output.mean()"
   ]
  },
  {
   "cell_type": "code",
   "execution_count": null,
   "metadata": {},
   "outputs": [],
   "source": []
  }
 ],
 "metadata": {
  "kernelspec": {
   "display_name": "Python 3",
   "language": "python",
   "name": "python3"
  },
  "language_info": {
   "codemirror_mode": {
    "name": "ipython",
    "version": 3
   },
   "file_extension": ".py",
   "mimetype": "text/x-python",
   "name": "python",
   "nbconvert_exporter": "python",
   "pygments_lexer": "ipython3",
   "version": "3.7.3"
  }
 },
 "nbformat": 4,
 "nbformat_minor": 2
}
