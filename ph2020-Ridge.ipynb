{
 "cells": [
  {
   "cell_type": "code",
   "execution_count": 156,
   "metadata": {},
   "outputs": [],
   "source": [
    "import pandas\n",
    "ph = pandas.read_csv(\"/Users/sunqingyu/Desktop/phph.csv\")"
   ]
  },
  {
   "cell_type": "code",
   "execution_count": 157,
   "metadata": {},
   "outputs": [],
   "source": [
    "from sklearn.linear_model import Ridge\n",
    "import numpy as np"
   ]
  },
  {
   "cell_type": "code",
   "execution_count": 158,
   "metadata": {},
   "outputs": [
    {
     "data": {
      "text/plain": [
       "751"
      ]
     },
     "execution_count": 158,
     "metadata": {},
     "output_type": "execute_result"
    }
   ],
   "source": [
    "len(ph.columns)"
   ]
  },
  {
   "cell_type": "code",
   "execution_count": 159,
   "metadata": {},
   "outputs": [
    {
     "data": {
      "text/html": [
       "<div>\n",
       "<style scoped>\n",
       "    .dataframe tbody tr th:only-of-type {\n",
       "        vertical-align: middle;\n",
       "    }\n",
       "\n",
       "    .dataframe tbody tr th {\n",
       "        vertical-align: top;\n",
       "    }\n",
       "\n",
       "    .dataframe thead th {\n",
       "        text-align: right;\n",
       "    }\n",
       "</style>\n",
       "<table border=\"1\" class=\"dataframe\">\n",
       "  <thead>\n",
       "    <tr style=\"text-align: right;\">\n",
       "      <th></th>\n",
       "      <th>SUBJECT_ID</th>\n",
       "      <th>HADM_ID</th>\n",
       "      <th>ICUSTAY_ID</th>\n",
       "      <th>LOS</th>\n",
       "      <th>ETHNICITY</th>\n",
       "      <th>DIAGNOSIS</th>\n",
       "      <th>MARITAL_STATUS</th>\n",
       "      <th>Age</th>\n",
       "      <th>GENDER</th>\n",
       "      <th>_NAME_</th>\n",
       "      <th>...</th>\n",
       "      <th>_226774</th>\n",
       "      <th>_226775</th>\n",
       "      <th>_226776</th>\n",
       "      <th>_226777</th>\n",
       "      <th>_226778</th>\n",
       "      <th>_226779</th>\n",
       "      <th>_226780</th>\n",
       "      <th>_227357</th>\n",
       "      <th>_227717</th>\n",
       "      <th>_225142</th>\n",
       "    </tr>\n",
       "  </thead>\n",
       "  <tbody>\n",
       "    <tr>\n",
       "      <th>0</th>\n",
       "      <td>10006</td>\n",
       "      <td>142345</td>\n",
       "      <td>206504</td>\n",
       "      <td>1.6325</td>\n",
       "      <td>BLACK/AFRICAN AMERICAN</td>\n",
       "      <td>SEPSIS</td>\n",
       "      <td>SEPARATED</td>\n",
       "      <td>71</td>\n",
       "      <td>F</td>\n",
       "      <td>VALUENUM</td>\n",
       "      <td>...</td>\n",
       "      <td>NaN</td>\n",
       "      <td>NaN</td>\n",
       "      <td>NaN</td>\n",
       "      <td>NaN</td>\n",
       "      <td>NaN</td>\n",
       "      <td>NaN</td>\n",
       "      <td>NaN</td>\n",
       "      <td>NaN</td>\n",
       "      <td>NaN</td>\n",
       "      <td>NaN</td>\n",
       "    </tr>\n",
       "    <tr>\n",
       "      <th>1</th>\n",
       "      <td>10011</td>\n",
       "      <td>105331</td>\n",
       "      <td>232110</td>\n",
       "      <td>13.8507</td>\n",
       "      <td>UNKNOWN/NOT SPECIFIED</td>\n",
       "      <td>HEPATITIS B</td>\n",
       "      <td>SINGLE</td>\n",
       "      <td>36</td>\n",
       "      <td>F</td>\n",
       "      <td>VALUENUM</td>\n",
       "      <td>...</td>\n",
       "      <td>NaN</td>\n",
       "      <td>NaN</td>\n",
       "      <td>NaN</td>\n",
       "      <td>NaN</td>\n",
       "      <td>NaN</td>\n",
       "      <td>NaN</td>\n",
       "      <td>NaN</td>\n",
       "      <td>NaN</td>\n",
       "      <td>NaN</td>\n",
       "      <td>NaN</td>\n",
       "    </tr>\n",
       "    <tr>\n",
       "      <th>2</th>\n",
       "      <td>10013</td>\n",
       "      <td>165520</td>\n",
       "      <td>264446</td>\n",
       "      <td>2.6499</td>\n",
       "      <td>UNKNOWN/NOT SPECIFIED</td>\n",
       "      <td>SEPSIS</td>\n",
       "      <td>NaN</td>\n",
       "      <td>87</td>\n",
       "      <td>F</td>\n",
       "      <td>VALUENUM</td>\n",
       "      <td>...</td>\n",
       "      <td>NaN</td>\n",
       "      <td>NaN</td>\n",
       "      <td>NaN</td>\n",
       "      <td>NaN</td>\n",
       "      <td>NaN</td>\n",
       "      <td>NaN</td>\n",
       "      <td>NaN</td>\n",
       "      <td>NaN</td>\n",
       "      <td>NaN</td>\n",
       "      <td>NaN</td>\n",
       "    </tr>\n",
       "    <tr>\n",
       "      <th>3</th>\n",
       "      <td>10017</td>\n",
       "      <td>199207</td>\n",
       "      <td>204881</td>\n",
       "      <td>2.1436</td>\n",
       "      <td>WHITE</td>\n",
       "      <td>HUMERAL FRACTURE</td>\n",
       "      <td>DIVORCED</td>\n",
       "      <td>77</td>\n",
       "      <td>F</td>\n",
       "      <td>VALUENUM</td>\n",
       "      <td>...</td>\n",
       "      <td>NaN</td>\n",
       "      <td>NaN</td>\n",
       "      <td>NaN</td>\n",
       "      <td>NaN</td>\n",
       "      <td>NaN</td>\n",
       "      <td>NaN</td>\n",
       "      <td>NaN</td>\n",
       "      <td>NaN</td>\n",
       "      <td>NaN</td>\n",
       "      <td>NaN</td>\n",
       "    </tr>\n",
       "    <tr>\n",
       "      <th>4</th>\n",
       "      <td>10019</td>\n",
       "      <td>177759</td>\n",
       "      <td>228977</td>\n",
       "      <td>1.2938</td>\n",
       "      <td>WHITE</td>\n",
       "      <td>ALCOHOLIC HEPATITIS</td>\n",
       "      <td>DIVORCED</td>\n",
       "      <td>48</td>\n",
       "      <td>M</td>\n",
       "      <td>VALUENUM</td>\n",
       "      <td>...</td>\n",
       "      <td>NaN</td>\n",
       "      <td>NaN</td>\n",
       "      <td>NaN</td>\n",
       "      <td>NaN</td>\n",
       "      <td>NaN</td>\n",
       "      <td>NaN</td>\n",
       "      <td>NaN</td>\n",
       "      <td>NaN</td>\n",
       "      <td>NaN</td>\n",
       "      <td>NaN</td>\n",
       "    </tr>\n",
       "  </tbody>\n",
       "</table>\n",
       "<p>5 rows × 751 columns</p>\n",
       "</div>"
      ],
      "text/plain": [
       "   SUBJECT_ID  HADM_ID  ICUSTAY_ID      LOS               ETHNICITY  \\\n",
       "0       10006   142345      206504   1.6325  BLACK/AFRICAN AMERICAN   \n",
       "1       10011   105331      232110  13.8507   UNKNOWN/NOT SPECIFIED   \n",
       "2       10013   165520      264446   2.6499   UNKNOWN/NOT SPECIFIED   \n",
       "3       10017   199207      204881   2.1436                   WHITE   \n",
       "4       10019   177759      228977   1.2938                   WHITE   \n",
       "\n",
       "             DIAGNOSIS MARITAL_STATUS  Age GENDER    _NAME_  ... _226774  \\\n",
       "0               SEPSIS      SEPARATED   71      F  VALUENUM  ...     NaN   \n",
       "1          HEPATITIS B         SINGLE   36      F  VALUENUM  ...     NaN   \n",
       "2               SEPSIS            NaN   87      F  VALUENUM  ...     NaN   \n",
       "3     HUMERAL FRACTURE       DIVORCED   77      F  VALUENUM  ...     NaN   \n",
       "4  ALCOHOLIC HEPATITIS       DIVORCED   48      M  VALUENUM  ...     NaN   \n",
       "\n",
       "   _226775  _226776  _226777  _226778  _226779  _226780  _227357  _227717  \\\n",
       "0      NaN      NaN      NaN      NaN      NaN      NaN      NaN      NaN   \n",
       "1      NaN      NaN      NaN      NaN      NaN      NaN      NaN      NaN   \n",
       "2      NaN      NaN      NaN      NaN      NaN      NaN      NaN      NaN   \n",
       "3      NaN      NaN      NaN      NaN      NaN      NaN      NaN      NaN   \n",
       "4      NaN      NaN      NaN      NaN      NaN      NaN      NaN      NaN   \n",
       "\n",
       "   _225142  \n",
       "0      NaN  \n",
       "1      NaN  \n",
       "2      NaN  \n",
       "3      NaN  \n",
       "4      NaN  \n",
       "\n",
       "[5 rows x 751 columns]"
      ]
     },
     "execution_count": 159,
     "metadata": {},
     "output_type": "execute_result"
    }
   ],
   "source": [
    "ph.head()"
   ]
  },
  {
   "cell_type": "code",
   "execution_count": 160,
   "metadata": {},
   "outputs": [],
   "source": [
    "# import math\n",
    "# for i in range(0,133):\n",
    "#     for j in range(11,752):\n",
    "#         print(ph[i,j])\n",
    "\n",
    "# ph.isna()\n",
    "# ph.replace([np.inf, -np.inf], np.nan)\n",
    "ph = ph.fillna(0)\n",
    "\n",
    "# for key, value in ph.iteritems(): \n",
    "#     if value.isnull():\n",
    "#         value = 0\n",
    "#     #print() \n",
    "    "
   ]
  },
  {
   "cell_type": "code",
   "execution_count": 161,
   "metadata": {},
   "outputs": [
    {
     "data": {
      "text/plain": [
       "(132, 751)"
      ]
     },
     "execution_count": 161,
     "metadata": {},
     "output_type": "execute_result"
    }
   ],
   "source": [
    "ph.shape"
   ]
  },
  {
   "cell_type": "code",
   "execution_count": 162,
   "metadata": {},
   "outputs": [],
   "source": [
    "#np.nan_to_num(ph)\n",
    "# np.where(ph.isnull())\n",
    "# ph.isnull()"
   ]
  },
  {
   "cell_type": "code",
   "execution_count": 163,
   "metadata": {},
   "outputs": [],
   "source": [
    "X = ph.iloc[0:100,11:752]"
   ]
  },
  {
   "cell_type": "code",
   "execution_count": 165,
   "metadata": {},
   "outputs": [],
   "source": [
    "y = ph.iloc[0:100, 3]"
   ]
  },
  {
   "cell_type": "code",
   "execution_count": 166,
   "metadata": {},
   "outputs": [],
   "source": [
    "ridgeFit = Ridge(alpha=1.0)"
   ]
  },
  {
   "cell_type": "code",
   "execution_count": 167,
   "metadata": {},
   "outputs": [
    {
     "data": {
      "text/plain": [
       "Ridge(alpha=1.0, copy_X=True, fit_intercept=True, max_iter=None,\n",
       "      normalize=False, random_state=None, solver='auto', tol=0.001)"
      ]
     },
     "execution_count": 167,
     "metadata": {},
     "output_type": "execute_result"
    }
   ],
   "source": [
    "ridgeFit.fit(X, y)"
   ]
  },
  {
   "cell_type": "code",
   "execution_count": 168,
   "metadata": {},
   "outputs": [
    {
     "data": {
      "text/plain": [
       "array([ 1.63314703, 13.85083257,  2.65014955,  2.14401687,  1.2938015 ,\n",
       "        2.40440022,  7.26183585,  2.26340991,  3.71092601,  1.07058606,\n",
       "        1.37493041,  1.80698858,  3.38148511,  2.13053192,  8.1413399 ,\n",
       "        2.01432504,  4.61788658,  6.30357124,  2.88337499,  1.04977561,\n",
       "        7.10831405,  1.78142911, 24.9966591 ,  0.20689775,  2.25583389,\n",
       "       15.04099936,  0.65393679,  7.11683264,  4.57513218,  2.01100684,\n",
       "        1.62340636,  3.68860799,  2.47150568,  1.14104142,  0.90178114,\n",
       "        3.97099826,  4.10121864,  0.76050441,  0.94464428,  2.45275969,\n",
       "        0.66362527,  1.92338795, 11.07154429,  5.68577222,  4.73339054,\n",
       "        2.67439805,  1.78610128,  7.90206093,  1.89218241,  3.49515289,\n",
       "       15.36322789,  2.89583803,  2.82588638, 35.40647324, 22.38684515,\n",
       "        1.64427766,  0.79847268,  2.45488361,  3.75203206,  1.11157275,\n",
       "        0.61761809,  0.85946125,  1.26209265,  1.72996886,  1.15214025,\n",
       "        1.14748755,  7.19869517, 19.57603045,  2.00030383,  1.03368749,\n",
       "        8.92539315,  2.4872906 ,  3.54647091,  0.71496303,  1.66955424,\n",
       "        1.40115456, 10.73438272, 12.98996113,  2.97270113,  2.58021589,\n",
       "        4.92607937,  1.01779793,  1.3131991 ,  2.08314199,  2.73594555,\n",
       "       10.86236731,  2.94103949,  0.75942214, 10.77638689,  0.75742337,\n",
       "        1.33525265,  1.91730659,  0.87907103,  5.09546995, 13.35711379,\n",
       "        1.26071728, 21.41317659,  5.4263472 ,  1.136644  ,  0.79677503])"
      ]
     },
     "execution_count": 168,
     "metadata": {},
     "output_type": "execute_result"
    }
   ],
   "source": [
    "ridgeFit.predict(X)"
   ]
  },
  {
   "cell_type": "code",
   "execution_count": 169,
   "metadata": {},
   "outputs": [
    {
     "data": {
      "text/plain": [
       "0     1.000396\n",
       "1     1.000010\n",
       "2     1.000094\n",
       "3     1.000194\n",
       "4     1.000001\n",
       "5     0.999501\n",
       "6     1.000032\n",
       "7     1.000446\n",
       "8     0.999711\n",
       "9     1.001015\n",
       "10    0.999586\n",
       "11    1.000104\n",
       "12    0.998755\n",
       "13    0.999968\n",
       "14    0.999980\n",
       "15    1.000112\n",
       "16    0.999997\n",
       "17    1.000027\n",
       "18    1.000026\n",
       "19    1.000644\n",
       "20    1.000002\n",
       "21    1.000466\n",
       "22    0.999994\n",
       "23    0.999506\n",
       "24    0.999971\n",
       "25    1.000000\n",
       "26    0.998529\n",
       "27    0.999934\n",
       "28    0.999789\n",
       "29    1.000949\n",
       "        ...   \n",
       "70    0.999988\n",
       "71    1.000036\n",
       "72    0.999992\n",
       "73    1.000508\n",
       "74    1.000092\n",
       "75    1.000039\n",
       "76    1.000026\n",
       "77    0.999974\n",
       "78    0.999832\n",
       "79    0.999967\n",
       "80    0.999976\n",
       "81    1.000195\n",
       "82    1.000228\n",
       "83    1.000116\n",
       "84    0.999944\n",
       "85    0.999988\n",
       "86    1.000149\n",
       "87    0.999371\n",
       "88    0.999999\n",
       "89    1.000691\n",
       "90    1.000039\n",
       "91    0.999743\n",
       "92    0.999058\n",
       "93    0.999974\n",
       "94    1.000009\n",
       "95    1.000014\n",
       "96    0.999980\n",
       "97    1.000009\n",
       "98    1.000743\n",
       "99    0.999216\n",
       "Name: LOS, Length: 100, dtype: float64"
      ]
     },
     "execution_count": 169,
     "metadata": {},
     "output_type": "execute_result"
    }
   ],
   "source": [
    "ridgeFit.predict(X)/y"
   ]
  },
  {
   "cell_type": "code",
   "execution_count": 171,
   "metadata": {},
   "outputs": [
    {
     "data": {
      "text/plain": [
       "array([ 4.04868837,  0.31096155,  0.30097132, -1.23253835,  1.21703914,\n",
       "       -2.16644764, 10.06083438, 16.03063361,  2.03702147, 11.51153337,\n",
       "        0.27510987,  4.14632264,  0.13382573,  2.42947791, -6.60612626,\n",
       "        3.48542864,  0.46558237,  2.03893266,  2.16295375, -0.09769026,\n",
       "        0.94596484,  0.71708054, -4.65645504,  1.53702724,  6.30213271,\n",
       "        7.13493684, -0.20048792,  0.76623372, -0.57842532,  3.57365886,\n",
       "        2.92852803,  0.3623246 ])"
      ]
     },
     "execution_count": 171,
     "metadata": {},
     "output_type": "execute_result"
    }
   ],
   "source": [
    "testX = ph.iloc[100:133,11:752]\n",
    "testY = ph.iloc[100:133, 3]\n",
    "ridgeFit.predict(testX)"
   ]
  },
  {
   "cell_type": "code",
   "execution_count": 200,
   "metadata": {},
   "outputs": [],
   "source": [
    "output = ridgeFit.predict(testX)/testY"
   ]
  },
  {
   "cell_type": "code",
   "execution_count": 202,
   "metadata": {},
   "outputs": [
    {
     "data": {
      "text/plain": [
       "1.0347311112369861"
      ]
     },
     "execution_count": 202,
     "metadata": {},
     "output_type": "execute_result"
    }
   ],
   "source": [
    "output.mean()\n",
    "#type(output)\n",
    "#[0:len(output), 1]"
   ]
  },
  {
   "cell_type": "code",
   "execution_count": 203,
   "metadata": {},
   "outputs": [
    {
     "ename": "KeyError",
     "evalue": "'LOS'",
     "output_type": "error",
     "traceback": [
      "\u001b[0;31m---------------------------------------------------------------------------\u001b[0m",
      "\u001b[0;31mKeyError\u001b[0m                                  Traceback (most recent call last)",
      "\u001b[0;32m<ipython-input-203-6676c7a2a010>\u001b[0m in \u001b[0;36m<module>\u001b[0;34m\u001b[0m\n\u001b[1;32m      1\u001b[0m \u001b[0;31m#output=output.to_frame\u001b[0m\u001b[0;34m\u001b[0m\u001b[0;34m\u001b[0m\u001b[0;34m\u001b[0m\u001b[0m\n\u001b[0;32m----> 2\u001b[0;31m \u001b[0moutput\u001b[0m\u001b[0;34m[\u001b[0m\u001b[0;34m'LOS'\u001b[0m\u001b[0;34m]\u001b[0m\u001b[0;34m.\u001b[0m\u001b[0mmean\u001b[0m\u001b[0;34m(\u001b[0m\u001b[0;34m)\u001b[0m\u001b[0;34m\u001b[0m\u001b[0;34m\u001b[0m\u001b[0m\n\u001b[0m",
      "\u001b[0;32m~/anaconda3/lib/python3.7/site-packages/pandas/core/series.py\u001b[0m in \u001b[0;36m__getitem__\u001b[0;34m(self, key)\u001b[0m\n\u001b[1;32m    866\u001b[0m         \u001b[0mkey\u001b[0m \u001b[0;34m=\u001b[0m \u001b[0mcom\u001b[0m\u001b[0;34m.\u001b[0m\u001b[0mapply_if_callable\u001b[0m\u001b[0;34m(\u001b[0m\u001b[0mkey\u001b[0m\u001b[0;34m,\u001b[0m \u001b[0mself\u001b[0m\u001b[0;34m)\u001b[0m\u001b[0;34m\u001b[0m\u001b[0;34m\u001b[0m\u001b[0m\n\u001b[1;32m    867\u001b[0m         \u001b[0;32mtry\u001b[0m\u001b[0;34m:\u001b[0m\u001b[0;34m\u001b[0m\u001b[0;34m\u001b[0m\u001b[0m\n\u001b[0;32m--> 868\u001b[0;31m             \u001b[0mresult\u001b[0m \u001b[0;34m=\u001b[0m \u001b[0mself\u001b[0m\u001b[0;34m.\u001b[0m\u001b[0mindex\u001b[0m\u001b[0;34m.\u001b[0m\u001b[0mget_value\u001b[0m\u001b[0;34m(\u001b[0m\u001b[0mself\u001b[0m\u001b[0;34m,\u001b[0m \u001b[0mkey\u001b[0m\u001b[0;34m)\u001b[0m\u001b[0;34m\u001b[0m\u001b[0;34m\u001b[0m\u001b[0m\n\u001b[0m\u001b[1;32m    869\u001b[0m \u001b[0;34m\u001b[0m\u001b[0m\n\u001b[1;32m    870\u001b[0m             \u001b[0;32mif\u001b[0m \u001b[0;32mnot\u001b[0m \u001b[0mis_scalar\u001b[0m\u001b[0;34m(\u001b[0m\u001b[0mresult\u001b[0m\u001b[0;34m)\u001b[0m\u001b[0;34m:\u001b[0m\u001b[0;34m\u001b[0m\u001b[0;34m\u001b[0m\u001b[0m\n",
      "\u001b[0;32m~/anaconda3/lib/python3.7/site-packages/pandas/core/indexes/base.py\u001b[0m in \u001b[0;36mget_value\u001b[0;34m(self, series, key)\u001b[0m\n\u001b[1;32m   4373\u001b[0m         \u001b[0;32mtry\u001b[0m\u001b[0;34m:\u001b[0m\u001b[0;34m\u001b[0m\u001b[0;34m\u001b[0m\u001b[0m\n\u001b[1;32m   4374\u001b[0m             return self._engine.get_value(s, k,\n\u001b[0;32m-> 4375\u001b[0;31m                                           tz=getattr(series.dtype, 'tz', None))\n\u001b[0m\u001b[1;32m   4376\u001b[0m         \u001b[0;32mexcept\u001b[0m \u001b[0mKeyError\u001b[0m \u001b[0;32mas\u001b[0m \u001b[0me1\u001b[0m\u001b[0;34m:\u001b[0m\u001b[0;34m\u001b[0m\u001b[0;34m\u001b[0m\u001b[0m\n\u001b[1;32m   4377\u001b[0m             \u001b[0;32mif\u001b[0m \u001b[0mlen\u001b[0m\u001b[0;34m(\u001b[0m\u001b[0mself\u001b[0m\u001b[0;34m)\u001b[0m \u001b[0;34m>\u001b[0m \u001b[0;36m0\u001b[0m \u001b[0;32mand\u001b[0m \u001b[0;34m(\u001b[0m\u001b[0mself\u001b[0m\u001b[0;34m.\u001b[0m\u001b[0mholds_integer\u001b[0m\u001b[0;34m(\u001b[0m\u001b[0;34m)\u001b[0m \u001b[0;32mor\u001b[0m \u001b[0mself\u001b[0m\u001b[0;34m.\u001b[0m\u001b[0mis_boolean\u001b[0m\u001b[0;34m(\u001b[0m\u001b[0;34m)\u001b[0m\u001b[0;34m)\u001b[0m\u001b[0;34m:\u001b[0m\u001b[0;34m\u001b[0m\u001b[0;34m\u001b[0m\u001b[0m\n",
      "\u001b[0;32mpandas/_libs/index.pyx\u001b[0m in \u001b[0;36mpandas._libs.index.IndexEngine.get_value\u001b[0;34m()\u001b[0m\n",
      "\u001b[0;32mpandas/_libs/index.pyx\u001b[0m in \u001b[0;36mpandas._libs.index.IndexEngine.get_value\u001b[0;34m()\u001b[0m\n",
      "\u001b[0;32mpandas/_libs/index.pyx\u001b[0m in \u001b[0;36mpandas._libs.index.IndexEngine.get_loc\u001b[0;34m()\u001b[0m\n",
      "\u001b[0;32mpandas/_libs/index_class_helper.pxi\u001b[0m in \u001b[0;36mpandas._libs.index.Int64Engine._check_type\u001b[0;34m()\u001b[0m\n",
      "\u001b[0;31mKeyError\u001b[0m: 'LOS'"
     ]
    }
   ],
   "source": [
    "#output=output.to_frame\n",
    "#output['LOS'].mean()"
   ]
  },
  {
   "cell_type": "code",
   "execution_count": null,
   "metadata": {},
   "outputs": [],
   "source": []
  }
 ],
 "metadata": {
  "kernelspec": {
   "display_name": "Python 3",
   "language": "python",
   "name": "python3"
  },
  "language_info": {
   "codemirror_mode": {
    "name": "ipython",
    "version": 3
   },
   "file_extension": ".py",
   "mimetype": "text/x-python",
   "name": "python",
   "nbconvert_exporter": "python",
   "pygments_lexer": "ipython3",
   "version": "3.7.3"
  }
 },
 "nbformat": 4,
 "nbformat_minor": 2
}
